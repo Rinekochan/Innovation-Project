import matplotlib.pyplot as plt
import pandas as pd
import numpy as np
import seaborn as sns
from sklearn.preprocessing import LabelEncoder
## Load Flight Fare Dataset
- Load all datasets
file_path = '../datasets/US_Airfare.csv'
airfare_data = pd.read_csv(file_path)

file_path = '../datasets/US_AirTraffic.csv'
airtraffic_data = pd.read_csv(file_path)

file_path = '../datasets/US_GDP.csv'
gdp_data = pd.read_csv(file_path)

file_path = '../datasets/US_Inflation.csv'
inflation_data = pd.read_csv(file_path)

file_path = '../datasets/US_JetFuelDomestic.xlsx'
fuel_data = pd.read_excel(file_path)
- Remove potential duplicates of all datasets
airfare_data.drop_duplicates(inplace=True)
airtraffic_data.drop_duplicates(inplace=True)
gdp_data.drop_duplicates(inplace=True)
inflation_data.drop_duplicates(inplace=True)
fuel_data.drop_duplicates(inplace=True)
### Airfare Dataset Processing
- Drop the data before 2014 since we are analysing the past 15 years flight fares
airfare_data = airfare_data[airfare_data['Year'] >= 2009].copy()
airfare_data
- Rename columns for better readability
airfare_data.rename(columns={'quarter': 'Quarter'}, inplace=True)
airfare_data.rename(columns={'citymarketid_1': 'OriginCityId'}, inplace=True)
airfare_data.rename(columns={'citymarketid_2': 'DestinationCityId'}, inplace=True)
airfare_data.rename(columns={'nsmiles': 'Miles'}, inplace=True)
airfare_data.rename(columns={'passengers': 'Passengers'}, inplace=True)
airfare_data.rename(columns={'fare': 'Fare'}, inplace=True)
airfare_data
- Sort the dataset based on year and quarter column
airfare_data = airfare_data.sort_values(by=['Year', 'Quarter'], ascending=[True, True])
airfare_data = airfare_data.reset_index(drop=True)
- Drop city1 and city2 since machine learning models work with numbers
airfare_data.drop(columns=['city1'], inplace=True)
airfare_data.drop(columns=['city2'], inplace=True)
airfare_data
- Since OriginCityID and DestinationCityId needs to work as a pair to have any meaning, we combine it into a string
airfare_data['Route'] = airfare_data['OriginCityId'].astype(str) + '-' + airfare_data['DestinationCityId'].astype(str)
- Then we drop the OriginCityID and DestinationCityId
airfare_data.drop(columns=['OriginCityId'], inplace=True)
airfare_data.drop(columns=['DestinationCityId'], inplace=True)
airfare_data
- However, as indicated above, we also need to encode route string into number
label_encoder = LabelEncoder()

airfare_data['RouteEncoded'] = label_encoder.fit_transform(airfare_data['Route'])
airfare_data.drop(columns=['Route'], inplace=True)
airfare_data
### Air Traffic Dataset Processing
- Transform air traffic month into quarter to align with the airfare dataset time format
airtraffic_data['Quarter'] = ((airtraffic_data['Month'] - 1) // 3) + 1
airtraffic_data.drop(columns=['Month'], inplace=True) # Drop the month column
airtraffic_data['Dom_Pax'] = airtraffic_data['Dom_Pax'].str.replace(',', '').astype(float)
airtraffic_data['Dom_Flt'] = airtraffic_data['Dom_Flt'].str.replace(',', '').astype(float)
airtraffic_data['Dom_RPM'] = airtraffic_data['Dom_RPM'].str.replace(',', '').astype(float)
- Rename columns for better readability
airtraffic_data.rename(columns={'Dom_Pax': 'TotalDomesticPassenger'}, inplace=True)
airtraffic_data.rename(columns={'Dom_Flt': 'TotalDomesticFlight'}, inplace=True)
airtraffic_data.rename(columns={'Dom_RPM': 'TotalDomesticRevenue'}, inplace=True)
- Calculate the means of DomesticPassenger, DomesticFlight, DomesticRevenue with the same quarter
airtraffic_data = airtraffic_data.groupby(['Year', 'Quarter']).agg({
    'TotalDomesticPassenger': 'mean',
    'TotalDomesticFlight': 'mean',
    'TotalDomesticRevenue': 'mean'
}).reset_index()

airtraffic_data = airtraffic_data.round({
    'TotalDomesticPassenger': 1,
    'TotalDomesticFlight': 1,
    'TotalDomesticRevenue': 1
})

airtraffic_data
- Merge Air Traffic dataset into the processing dataset, fill the missing data with the lastest value 
df = pd.merge(airfare_data, airtraffic_data, on=['Year', 'Quarter'], how='left')
df['TotalDomesticPassenger'] = df['TotalDomesticPassenger'].ffill()
df['TotalDomesticFlight'] = df['TotalDomesticFlight'].ffill()
df['TotalDomesticRevenue'] = df['TotalDomesticRevenue'].ffill()
df
## Domestic Jet Fuel Dataset Processing

- Transform jet fuel month into quarter to align with the airfare dataset time format

def month_to_quarter(month):
    month_to_quarter_map = {
        'January': 1, 'February': 1, 'March': 1,
        'April': 2, 'May': 2, 'June': 2,
        'July': 3, 'August': 3, 'September': 3,
        'October': 4, 'November': 4, 'December': 4
    }
    quarter = month_to_quarter_map[month]  # Map the month to its quarter
    return quarter

fuel_data['Quarter'] = fuel_data['Month'].apply(month_to_quarter)
fuel_data.drop(columns=['Month'], inplace=True) # Drop the month column
- Rename for better readability
fuel_data.rename(columns={"Cost per\xa0Gallon (dollars)": 'FuelCostPerGallon'}, inplace=True)
- Remove domestic fuel total consumption and domestic fuel total cost because it's irrelevant
fuel_data.drop(columns=['Consumption (million gallons)'], inplace=True)
fuel_data.drop(columns=['Cost (million dollars)'], inplace=True)
- Calculate the means of Consumption, Cost, Cost per Gallon with the same quarter
fuel_data = fuel_data.groupby(['Year', 'Quarter']).agg({
    'FuelCostPerGallon': 'mean'
}).reset_index()

fuel_data = fuel_data.round({
    'FuelCostPerGallon': 1
})
- Merge Jet Fuel Domestic dataset into the processing dataset
df = pd.merge(df, fuel_data, on=['Year', 'Quarter'], how='left')
df
## GDP Dataset Processing
- Rename for better readbility
gdp_data.rename(columns={'USNGSP': 'US_GDP'}, inplace=True)
- Convert date column to Python DateTime format, and separate it into Year column
gdp_data['DATE'] = pd.to_datetime(gdp_data['DATE'])

# Split 'DATE' into separate 'Year' and 'Quarter' columns
gdp_data['Year'] = gdp_data['DATE'].dt.year

gdp_data.drop(columns=['DATE'], inplace=True) # Drop the DATE column

- Fill the missing 2024 data with the difference between 2023-2022 + 2023 GDP with linear increase since we can see that the GDP is only increasing
growth_rate = gdp_data['US_GDP'].iloc[-1] - gdp_data['US_GDP'].iloc[-2]
us_gdp_2024 = gdp_data['US_GDP'].iloc[-1] + growth_rate

gdp_data_2024 = pd.DataFrame({'US_GDP': [us_gdp_2024], 'Year': [2024]})
gdp_data = pd.concat([gdp_data, gdp_data_2024], ignore_index=True)
- Merge GDP dataset to the processing dataset, and fill the missing 2024 data with lastest data
df = pd.merge(df, gdp_data, on=['Year'], how='left')
df
## Inflation Dataset processing
- Convert date column to Python DateTime format, and separate it into Year and Quarter column
inflation_data['date'] = pd.to_datetime(inflation_data['date'])
inflation_data['Year'] = inflation_data['date'].dt.year
inflation_data['Quarter'] = inflation_data['date'].dt.quarter
- Rename for better readability
inflation_data.rename(columns={'value': 'Inflation'}, inplace=True)
- Calculate inflation within the same quarter
inflation_data = inflation_data.groupby(['Year', 'Quarter']).agg({
    'Inflation': 'mean',
}).reset_index()

inflation_data = inflation_data.round({
    'Inflation': 1,
})
- Fill the missing data after Quarter 2 2023 with Linear Increase
growth_rate = (inflation_data['Inflation'].iloc[-1] - inflation_data['Inflation'].iloc[-2])

inflation_Q3_2023 = inflation_data['Inflation'].iloc[-1] + growth_rate
inflation_Q4_2023 = inflation_data['Inflation'].iloc[-1] + growth_rate * 2
inflation_Q1_2024 = inflation_data['Inflation'].iloc[-1] + growth_rate * 3

inflation_data_Q3_2023 = pd.DataFrame({'Inflation': [inflation_Q3_2023], 'Year': [2023], 'Quarter': [3]})
inflation_data_Q4_2023 = pd.DataFrame({'Inflation': [inflation_Q4_2023], 'Year': [2023], 'Quarter': [4]})
inflation_data_Q1_2024 = pd.DataFrame({'Inflation': [inflation_Q1_2024], 'Year': [2024], 'Quarter': [1]})

inflation_data = pd.concat([inflation_data, inflation_data_Q3_2023], ignore_index=True)
inflation_data = pd.concat([inflation_data, inflation_data_Q4_2023], ignore_index=True)
inflation_data = pd.concat([inflation_data, inflation_data_Q1_2024], ignore_index=True)
inflation_data
- Merge Inflation dataset with the processing dataset
df = pd.merge(df, inflation_data, on=['Year', 'Quarter'], how='left')
df
## Preprocessed Dataset Visualisation Analysis
 - Plot a scatter plot of flight fares vs flight distances
plt.figure(figsize=(15, 10))
plt.scatter(df['Fare'], df['Miles'], alpha=0.7, color='b')
plt.title('Scatter Plot of Flight Fares vs. Distance')
plt.xlabel('Fare')
plt.ylabel('Miles')
plt.grid(True)
plt.show()
 - Plot a correlation matrix heatmap
plt.figure(figsize=(12, 10))
corr_matrix = df.corr()
sns.heatmap(corr_matrix, annot=True, cmap='coolwarm', linewidths=0.5)
plt.title('Correlation Matrix Heatmap')
plt.show()
